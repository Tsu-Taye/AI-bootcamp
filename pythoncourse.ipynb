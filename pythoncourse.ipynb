{
 "cells": [
  {
   "cell_type": "code",
   "execution_count": 1,
   "metadata": {},
   "outputs": [
    {
     "name": "stdout",
     "output_type": "stream",
     "text": [
      "Hello Juypiter hampus\n",
      "Hello Juypiter hampus 2\n",
      "9\n",
      "kleine aanpassing :)\n"
     ]
    }
   ],
   "source": [
    "print(\"Hello Juypiter hampus\")\n",
    "\n",
    "if 1 == 1:\n",
    "    print(\"Hello Juypiter hampus 2\")\n",
    "\n",
    " \n",
    "print(7+3)\n",
    "8+9\n"
   ]
  }
 ],
 "metadata": {
  "kernelspec": {
   "display_name": "Python 3.10.7 64-bit (microsoft store)",
   "language": "python",
   "name": "python3"
  },
  "language_info": {
   "codemirror_mode": {
    "name": "ipython",
    "version": 3
   },
   "file_extension": ".py",
   "mimetype": "text/x-python",
   "name": "python",
   "nbconvert_exporter": "python",
   "pygments_lexer": "ipython3",
   "version": "3.10.7"
  },
  "orig_nbformat": 4,
  "vscode": {
   "interpreter": {
    "hash": "f011861000fa634605497ec2adf265b8bb5854fa642a49d4f686f38102fd2845"
   }
  }
 },
 "nbformat": 4,
 "nbformat_minor": 2
}
